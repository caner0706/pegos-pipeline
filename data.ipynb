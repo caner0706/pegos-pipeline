{
 "cells": [
  {
   "cell_type": "code",
   "execution_count": null,
   "metadata": {},
   "outputs": [],
   "source": [
    "# ============================================================\n",
    "# 📘 Pegos - Offline Data Generator (for GitHub Actions)\n",
    "# ============================================================\n",
    "# Bu notebook internete bağlanmadan, örnek veri oluşturur\n",
    "# ve \"data/output.csv\" dosyasına kaydeder.\n",
    "# ============================================================\n",
    "\n",
    "import pandas as pd\n",
    "import datetime\n",
    "import random\n",
    "import os"
   ]
  },
  {
   "cell_type": "code",
   "execution_count": null,
   "metadata": {},
   "outputs": [],
   "source": [
    "# ============================================================\n",
    "# 1️⃣ Klasör oluştur\n",
    "# ============================================================\n",
    "os.makedirs(\"data\", exist_ok=True)"
   ]
  },
  {
   "cell_type": "code",
   "execution_count": null,
   "metadata": {},
   "outputs": [],
   "source": [
    "# ============================================================\n",
    "# 2️⃣ Sahte veriler oluştur (örnek amaçlı)\n",
    "# ============================================================\n",
    "timestamps = [datetime.datetime.now().isoformat()]\n",
    "btc_price = round(random.uniform(60000, 70000), 2)\n",
    "eth_price = round(btc_price * random.uniform(0.05, 0.07), 2)\n",
    "\n",
    "data = {\n",
    "    \"timestamp\": timestamps,\n",
    "    \"btc_price_usd\": [btc_price],\n",
    "    \"eth_price_usd\": [eth_price],\n",
    "    \"source\": [\"simulated-offline\"]\n",
    "}\n",
    "\n",
    "df = pd.DataFrame(data)"
   ]
  },
  {
   "cell_type": "code",
   "execution_count": null,
   "metadata": {},
   "outputs": [],
   "source": [
    "# ============================================================\n",
    "# 3️⃣ Ek bilgiler ekle\n",
    "# ============================================================\n",
    "df[\"date\"] = pd.to_datetime(df[\"timestamp\"]).dt.date\n",
    "df[\"time\"] = pd.to_datetime(df[\"timestamp\"]).dt.time\n"
   ]
  },
  {
   "cell_type": "code",
   "execution_count": null,
   "metadata": {},
   "outputs": [],
   "source": [
    "# ============================================================\n",
    "# 4️⃣ Veriyi kaydet\n",
    "# ============================================================\n",
    "output_path = \"data/output.csv\"\n",
    "df.to_csv(output_path, index=False)\n",
    "\n",
    "print(f\"✅ Veri oluşturuldu ve kaydedildi: {output_path}\")\n",
    "print(df)"
   ]
  },
  {
   "cell_type": "code",
   "execution_count": null,
   "metadata": {},
   "outputs": [],
   "source": [
    "# ============================================================\n",
    "# 5️⃣ Log dosyasına yaz\n",
    "# ============================================================\n",
    "log_entry = f\"[{datetime.datetime.now()}] Data saved: {output_path}\\n\"\n",
    "with open(\"data/fetch_log.txt\", \"a\") as log_file:\n",
    "    log_file.write(log_entry)\n",
    "print(\"🗒️ Log dosyasına kayıt eklendi.\")\n"
   ]
  }
 ],
 "metadata": {
  "kernelspec": {
   "display_name": "Python 3",
   "language": "python",
   "name": "python3"
  },
  "language_info": {
   "name": "python",
   "version": "3.12.7"
  }
 },
 "nbformat": 4,
 "nbformat_minor": 2
}
