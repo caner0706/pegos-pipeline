{
 "cells": [
  {
   "cell_type": "code",
   "execution_count": null,
   "metadata": {},
   "outputs": [],
   "source": [
    "# ============================================================\n",
    "# 📘 Pegos - Automated Data Fetch Notebook\n",
    "# ============================================================\n",
    "# Bu notebook verileri belirli aralıklarla çekip, işleyip\n",
    "# \"data/output.csv\" olarak kaydeder.\n",
    "# ============================================================\n",
    "\n",
    "# 1️⃣ Gerekli kütüphaneler\n",
    "import pandas as pd\n",
    "import requests\n",
    "import datetime\n",
    "import os\n"
   ]
  },
  {
   "cell_type": "code",
   "execution_count": null,
   "metadata": {},
   "outputs": [],
   "source": [
    "# ============================================================\n",
    "# 2️⃣ Çalışma dizinini ayarla\n",
    "# ============================================================\n",
    "os.makedirs(\"data\", exist_ok=True)"
   ]
  },
  {
   "cell_type": "code",
   "execution_count": null,
   "metadata": {},
   "outputs": [],
   "source": [
    "# ============================================================\n",
    "# 3️⃣ Veri kaynağı (örnek amaçlı)\n",
    "# Burayı kendi veri çekme kodunla değiştirebilirsin.\n",
    "# Örneğin bir API çağrısı ya da CSV okuma işlemi.\n",
    "# ============================================================\n",
    "\n",
    "# 🔹 Örnek: CoinMarketCap veya kendi endpoint’in varsa buraya koyabilirsin\n",
    "# Burada sahte veriler oluşturuyoruz (örnek olması için)\n",
    "data = {\n",
    "    \"timestamp\": [datetime.datetime.now().isoformat()],\n",
    "    \"btc_price_usd\": [requests.get(\"https://api.coindesk.com/v1/bpi/currentprice.json\").json()[\"bpi\"][\"USD\"][\"rate_float\"]],\n",
    "    \"eth_price_usd\": [requests.get(\"https://api.coindesk.com/v1/bpi/currentprice.json\").json()[\"bpi\"][\"USD\"][\"rate_float\"] * 0.055],  # örnek\n",
    "}\n",
    "\n",
    "df = pd.DataFrame(data)"
   ]
  },
  {
   "cell_type": "code",
   "execution_count": null,
   "metadata": {},
   "outputs": [],
   "source": [
    "# ============================================================\n",
    "# 4️⃣ Veriyi işle (örnek: tarih kolonu ekle, gereksiz sütunları çıkar vs.)\n",
    "# ============================================================\n",
    "df[\"date\"] = pd.to_datetime(df[\"timestamp\"]).dt.date\n",
    "df[\"time\"] = pd.to_datetime(df[\"timestamp\"]).dt.time\n"
   ]
  },
  {
   "cell_type": "code",
   "execution_count": null,
   "metadata": {},
   "outputs": [],
   "source": [
    "# ============================================================\n",
    "# 5️⃣ Veriyi kaydet\n",
    "# ============================================================\n",
    "output_path = \"data/output.csv\"\n",
    "df.to_csv(output_path, index=False)\n",
    "\n",
    "print(f\"✅ Veri başarıyla çekildi ve kaydedildi: {output_path}\")\n",
    "print(df.head())"
   ]
  },
  {
   "cell_type": "code",
   "execution_count": null,
   "metadata": {},
   "outputs": [],
   "source": [
    "# ============================================================\n",
    "# 6️⃣ Günlük log dosyası oluştur (isteğe bağlı)\n",
    "# ============================================================\n",
    "log_entry = f\"[{datetime.datetime.now()}] Output saved to {output_path}\\n\"\n",
    "with open(\"data/fetch_log.txt\", \"a\") as log_file:\n",
    "    log_file.write(log_entry)\n",
    "print(\"🗒️ Log dosyasına kayıt eklendi.\")\n"
   ]
  }
 ],
 "metadata": {
  "kernelspec": {
   "display_name": "Python 3",
   "language": "python",
   "name": "python3"
  },
  "language_info": {
   "name": "python",
   "version": "3.12.7"
  }
 },
 "nbformat": 4,
 "nbformat_minor": 2
}
